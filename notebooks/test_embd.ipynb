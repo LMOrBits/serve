{
 "cells": [
  {
   "cell_type": "code",
   "execution_count": 1,
   "metadata": {},
   "outputs": [],
   "source": [
    "from serve.servers.embedding.main import EmbeddingManager\n",
    "from dotenv import load_dotenv\n",
    "from mlflow import MlflowClient\n",
    "from pathlib import Path\n",
    "import os\n",
    "load_dotenv(\".env\")\n",
    "client = MlflowClient(os.getenv(\"MLFLOW_TRACKING_URI\"))\n",
    "manager = EmbeddingManager(Path(\"./\").resolve() / \"em\", client)\n"
   ]
  },
  {
   "cell_type": "code",
   "execution_count": null,
   "metadata": {},
   "outputs": [],
   "source": []
  },
  {
   "cell_type": "code",
   "execution_count": 3,
   "metadata": {},
   "outputs": [
    {
     "name": "stderr",
     "output_type": "stream",
     "text": [
      "\u001b[32m2025-05-09 17:55:25.144\u001b[0m | \u001b[34m\u001b[1mDEBUG   \u001b[0m | \u001b[36mserve._cli.task\u001b[0m:\u001b[36mrun\u001b[0m:\u001b[36m29\u001b[0m - \u001b[34m\u001b[1m['task', '--dir', PosixPath('/Users/parsa/Desk/projects/university/slmops-project/slmops-thesis/app_projects/app/serve/src/serve/servers/embedding/main.py'), 'serve', 'MODEL_NAME=rag_embeddings', 'MODEL_PATH=/Users/parsa/Desk/projects/university/slmops-project/slmops-thesis/app_projects/app/serve/notebooks/em/rag_embeddings']\u001b[0m\n",
      "\u001b[32m2025-05-09 17:55:25.165\u001b[0m | \u001b[31m\u001b[1mERROR   \u001b[0m | \u001b[36mserve._cli.task\u001b[0m:\u001b[36mrun\u001b[0m:\u001b[36m33\u001b[0m - \u001b[31m\u001b[1m\u001b[31mtask: Failed to parse ../src/serve/servers/embedding/main.py:\n",
      "yaml: line 12: mapping values are not allowed in this context\n",
      "\u001b[0m\u001b[0m\n"
     ]
    }
   ],
   "source": [
    "manager.add_serve(model_name=\"rag_embeddings\", alias=\"champion\")"
   ]
  },
  {
   "cell_type": "code",
   "execution_count": 3,
   "metadata": {},
   "outputs": [
    {
     "data": {
      "text/plain": [
       "PosixPath('/Users/parsa/Desk/projects/university/slmops-project/slmops-thesis/app_projects/app/serve/src/serve/servers/embedding')"
      ]
     },
     "execution_count": 3,
     "metadata": {},
     "output_type": "execute_result"
    }
   ],
   "source": [
    "manager.task_cli.taskfile_dir"
   ]
  },
  {
   "cell_type": "code",
   "execution_count": null,
   "metadata": {},
   "outputs": [],
   "source": []
  }
 ],
 "metadata": {
  "kernelspec": {
   "display_name": ".venv",
   "language": "python",
   "name": "python3"
  },
  "language_info": {
   "codemirror_mode": {
    "name": "ipython",
    "version": 3
   },
   "file_extension": ".py",
   "mimetype": "text/x-python",
   "name": "python",
   "nbconvert_exporter": "python",
   "pygments_lexer": "ipython3",
   "version": "3.12.7"
  }
 },
 "nbformat": 4,
 "nbformat_minor": 2
}
